{
 "cells": [
  {
   "cell_type": "code",
   "execution_count": 1,
   "metadata": {
    "collapsed": true,
    "hide_input": false,
    "nbpresent": {
     "id": "276be35b-d455-45ad-99e5-7e11cb65cf18"
    },
    "slideshow": {
     "slide_type": "slide"
    }
   },
   "outputs": [],
   "source": [
    "from sympy import * \n",
    "import numpy as np\n",
    "import matplotlib.pyplot as plt\n",
    "from scipy import integrate \n",
    "from matplotlib import gridspec\n",
    "import pylab\n",
    "%matplotlib inline\n",
    "init_printing() "
   ]
  },
  {
   "cell_type": "code",
   "execution_count": 2,
   "metadata": {
    "collapsed": true,
    "nbpresent": {
     "id": "c2ff25dc-1fdc-4f2d-a6d0-c1929c64d3ae"
    },
    "slideshow": {
     "slide_type": "slide"
    }
   },
   "outputs": [],
   "source": [
    "k, t, L, y0, yt = symbols('k t L y0 yt') \n",
    "y = Function('y')"
   ]
  },
  {
   "cell_type": "code",
   "execution_count": 3,
   "metadata": {
    "collapsed": false,
    "nbpresent": {
     "id": "7ecb00c4-c305-472a-acc4-53439e2ba945"
    },
    "slideshow": {
     "slide_type": "subslide"
    }
   },
   "outputs": [
    {
     "data": {
      "image/png": "[encoded data removed]",
      "text/latex": [
       "$$\\frac{d}{d t} y{\\left (t \\right )} = k \\left(L - y{\\left (t \\right )}\\right) y{\\left (t \\right )}$$"
      ],
      "text/plain": [
       "d                           \n",
       "──(y(t)) = k⋅(L - y(t))⋅y(t)\n",
       "dt                          "
      ]
     },
     "execution_count": 3,
     "metadata": {},
     "output_type": "execute_result"
    }
   ],
   "source": [
    "ode = Eq(y(t).diff(t), k*y(t)*(L-y(t)))   \n",
    "ode "
   ]
  },
  {
   "cell_type": "code",
   "execution_count": 4,
   "metadata": {
    "collapsed": false,
    "nbpresent": {
     "id": "9c4072eb-0374-4c6b-aff3-6ee6929746fc"
    },
    "slideshow": {
     "slide_type": "subslide"
    }
   },
   "outputs": [
    {
     "data": {
      "image/png": "[encoded data removed]",
      "text/latex": [
       "$$y{\\left (t \\right )} = \\frac{L e^{L \\left(C_{1} + k t\\right)}}{e^{L \\left(C_{1} + k t\\right)} - 1}$$"
      ],
      "text/plain": [
       "           L⋅(C₁ + k⋅t) \n",
       "        L⋅ℯ             \n",
       "y(t) = ─────────────────\n",
       "        L⋅(C₁ + k⋅t)    \n",
       "       ℯ             - 1"
      ]
     },
     "execution_count": 4,
     "metadata": {},
     "output_type": "execute_result"
    }
   ],
   "source": [
    "ode_sol = dsolve(ode) \n",
    "ode_sol "
   ]
  },
  {
   "cell_type": "code",
   "execution_count": 5,
   "metadata": {
    "collapsed": false,
    "nbpresent": {
     "id": "fbf642fc-cc3f-4baf-870f-c5309c81b47f"
    },
    "slideshow": {
     "slide_type": "slide"
    }
   },
   "outputs": [
    {
     "data": {
      "image/png": "[encoded data removed]",
      "text/latex": [
       "$$\\left \\{ y{\\left (0 \\right )} : y_{0}\\right \\}$$"
      ],
      "text/plain": [
       "{y(0): y₀}"
      ]
     },
     "execution_count": 5,
     "metadata": {},
     "output_type": "execute_result"
    }
   ],
   "source": [
    "ics = {y(0): y0}  \n",
    "ics "
   ]
  },
  {
   "cell_type": "code",
   "execution_count": 6,
   "metadata": {
    "collapsed": false,
    "nbpresent": {
     "id": "18b59516-6da9-4993-b6c6-7cfa45c961d5"
    },
    "slideshow": {
     "slide_type": "subslide"
    }
   },
   "outputs": [],
   "source": [
    "C1 = symbols(\"C1\") "
   ]
  },
  {
   "cell_type": "code",
   "execution_count": 7,
   "metadata": {
    "collapsed": false,
    "nbpresent": {
     "id": "3b61d913-a129-4cdb-be1b-184e727c81f1"
    },
    "slideshow": {
     "slide_type": "subslide"
    }
   },
   "outputs": [
    {
     "name": "stdout",
     "output_type": "stream",
     "text": [
      "Left hand of ODE becomes = y0  and the Right hand of ODE becomesy = L*exp(C1*L)/(exp(C1*L) - 1)\n"
     ]
    },
    {
     "data": {
      "image/png": "[encoded data removed]",
      "text/latex": [
       "$$\\frac{L e^{C_{1} L}}{e^{C_{1} L} - 1}$$"
      ],
      "text/plain": [
       "    C₁⋅L \n",
       " L⋅ℯ     \n",
       "─────────\n",
       " C₁⋅L    \n",
       "ℯ     - 1"
      ]
     },
     "execution_count": 7,
     "metadata": {},
     "output_type": "execute_result"
    }
   ],
   "source": [
    "ilhs = ode_sol.lhs.subs(y(t), y0)\n",
    "irhs = ode_sol.rhs.subs(t, 0)\n",
    "print(\"Left hand of ODE becomes =\", ilhs, \" and the Right hand of ODE becomesy =\" ,irhs)  \n",
    "irhs\n",
    " "
   ]
  },
  {
   "cell_type": "code",
   "execution_count": 8,
   "metadata": {
    "collapsed": false,
    "nbpresent": {
     "id": "c5ec17c9-9130-458e-a5e3-fda85abbb567"
    },
    "slideshow": {
     "slide_type": "subslide"
    }
   },
   "outputs": [
    {
     "data": {
      "image/png": "[encoded data removed]",
      "text/latex": [
       "$$\\left [ \\frac{1}{L} \\log{\\left (- \\frac{y_{0}}{L - y_{0}} \\right )}\\right ]$$"
      ],
      "text/plain": [
       "⎡   ⎛ -y₀  ⎞⎤\n",
       "⎢log⎜──────⎟⎥\n",
       "⎢   ⎝L - y₀⎠⎥\n",
       "⎢───────────⎥\n",
       "⎣     L     ⎦"
      ]
     },
     "execution_count": 8,
     "metadata": {},
     "output_type": "execute_result"
    }
   ],
   "source": [
    "C1val = solve(Eq(ilhs, irhs), C1) \n",
    "C1val"
   ]
  },
  {
   "cell_type": "code",
   "execution_count": 9,
   "metadata": {
    "collapsed": false,
    "nbpresent": {
     "id": "5a1ec061-14b7-43ad-82e0-dddd55bcfaf1"
    },
    "slideshow": {
     "slide_type": "subslide"
    }
   },
   "outputs": [
    {
     "data": {
      "image/png": "[encoded data removed]",
      "text/latex": [
       "$$- \\frac{L y_{0}}{\\left(L - y_{0}\\right) \\left(- \\frac{y_{0}}{L - y_{0}} - 1\\right)}$$"
      ],
      "text/plain": [
       "         -L⋅y₀         \n",
       "───────────────────────\n",
       "         ⎛    y₀      ⎞\n",
       "(L - y₀)⋅⎜- ────── - 1⎟\n",
       "         ⎝  L - y₀    ⎠"
      ]
     },
     "execution_count": 9,
     "metadata": {},
     "output_type": "execute_result"
    }
   ],
   "source": [
    "irhs.subs(C1, 1/L*log(-y0/(L-y0)))      "
   ]
  },
  {
   "cell_type": "code",
   "execution_count": 10,
   "metadata": {
    "collapsed": false,
    "nbpresent": {
     "id": "e8480d4c-f09b-4e10-99b2-748daa22fbaa"
    },
    "slideshow": {
     "slide_type": "subslide"
    }
   },
   "outputs": [
    {
     "data": {
      "image/png": "[encoded data removed]",
      "text/latex": [
       "$$\\frac{L e^{L \\left(k t + \\frac{1}{L} \\log{\\left (- \\frac{y_{0}}{L - y_{0}} \\right )}\\right)}}{e^{L \\left(k t + \\frac{1}{L} \\log{\\left (- \\frac{y_{0}}{L - y_{0}} \\right )}\\right)} - 1}$$"
      ],
      "text/plain": [
       "      ⎛         ⎛ -y₀  ⎞⎞ \n",
       "      ⎜      log⎜──────⎟⎟ \n",
       "      ⎜         ⎝L - y₀⎠⎟ \n",
       "    L⋅⎜k⋅t + ───────────⎟ \n",
       "      ⎝           L     ⎠ \n",
       " L⋅ℯ                      \n",
       "──────────────────────────\n",
       "   ⎛         ⎛ -y₀  ⎞⎞    \n",
       "   ⎜      log⎜──────⎟⎟    \n",
       "   ⎜         ⎝L - y₀⎠⎟    \n",
       " L⋅⎜k⋅t + ───────────⎟    \n",
       "   ⎝           L     ⎠    \n",
       "ℯ                      - 1"
      ]
     },
     "execution_count": 10,
     "metadata": {},
     "output_type": "execute_result"
    }
   ],
   "source": [
    "rhsf = (ode_sol.rhs.subs(C1, 1/L*log(-y0/(L-y0)))) \n",
    "rhsf "
   ]
  },
  {
   "cell_type": "code",
   "execution_count": 11,
   "metadata": {
    "collapsed": false,
    "hide_input": true,
    "nbpresent": {
     "id": "4509dca9-d4f2-4d14-9d5c-b8e8b6739f64"
    },
    "slideshow": {
     "slide_type": "slide"
    }
   },
   "outputs": [
    {
     "data": {
      "image/png": "[encoded data removed]",
      "text/plain": [
       "<matplotlib.figure.Figure at 0x7fe8fb5ddd30>"
      ]
     },
     "metadata": {},
     "output_type": "display_data"
    }
   ],
   "source": [
    "L = 1\n",
    "y0 = 0.01\n",
    "k = 0.1 \n",
    "t = np.linspace(1, 100,100)\n",
    "y = (L/(1+((L-y0)/y0)*np.exp(-k*t*L))) \n",
    "dydt = k*y*(L-y) \n",
    "\n",
    "fig1 = pylab.figure()\n",
    "ax1 = fig1.add_subplot(111)\n",
    "ax1.plot(t,y, '-')\n",
    "plt.ylim(-0.001, 1.05)\n",
    "plt.ylabel(\"population y\")  \n",
    "plt.xlabel(\"time t\")\n",
    "plt.grid() \n",
    "\n",
    "ax2 = fig1.add_subplot(111, sharex=ax1, frameon=False)\n",
    "ax2.plot(t, dydt,'r-')\n",
    "plt.ylim(-0.001, 0.1) \n",
    "ax2.yaxis.tick_right()\n",
    "ax2.yaxis.set_label_position(\"right\")\n",
    "plt.ylabel(\"Rate of population growth, dy/dt\") \n",
    "\n",
    "#plt.legend([line1, line2], ['Line Up', 'Line Down'])   \n",
    "ax1.annotate(\"d\", xy = (35, 0.3))  \n",
    "ax1.annotate(\"a\", xy = (0, 0.025))  \n",
    "ax1.annotate(\"b\", xy = (43, 0.5)) \n",
    "ax1.annotate(\"e\", xy = (57, 0.8)) \n",
    "ax1.annotate(\"c\", xy = (97, 1.01))\n",
    "ax1.annotate('Point of inflection', xy=(43, 0.5),\n",
    "                xytext=(-120, 0), textcoords='offset points', \n",
    "                arrowprops=dict(arrowstyle=\"->\") )  \n",
    "        \n",
    "ax2.annotate(\"maximum growth\", xy = (45, 0.025), xytext=(-1, 20), textcoords='offset points', arrowprops=dict(arrowstyle=\"->\") ) \n",
    "ax1.annotate(\"growth curve\", xy =(80,0.98), xytext = (-20,-40), textcoords='offset points', arrowprops=dict(arrowstyle=\"->\", ) ) \n",
    "plt.savefig(\"fig1\", format = \"pdf\") "
   ]
  },
  {
   "cell_type": "code",
   "execution_count": 12,
   "metadata": {
    "collapsed": false,
    "hide_input": true,
    "nbpresent": {
     "id": "82a274dc-25cb-4abc-b322-6791d1bdf45c"
    },
    "slideshow": {
     "slide_type": "slide"
    }
   },
   "outputs": [
    {
     "data": {
      "image/png": "[encoded data removed]",
      "text/plain": [
       "<matplotlib.figure.Figure at 0x7fe8fb5b6cf8>"
      ]
     },
     "metadata": {},
     "output_type": "display_data"
    }
   ],
   "source": [
    "fig1 = plt.figure()\n",
    "ax1 = fig1.add_subplot(111)\n",
    "ax1.plot(t,y, '-')\n",
    "plt.ylim(-0.001, 1.05)\n",
    "plt.ylabel(\"population y\")  \n",
    "plt.xlabel(\"time t\")\n",
    "plt.grid() \n",
    " \n",
    "ax1.annotate(\"d\", xy = (35, 0.3))  \n",
    "ax1.annotate(\"a\", xy = (0, 0.025))  \n",
    "ax1.annotate(\"b\", xy = (43, 0.5)) \n",
    "ax1.annotate(\"e\", xy = (57, 0.8)) \n",
    "ax1.annotate(\"c\", xy = (97, 1.01))\n",
    "\n",
    "ax1.axvline(37, ymin=0.35, ymax=1, linestyle='--', c = \"red\") \n",
    "ax1.axvline(60, ymin=0.8, ymax=1, linestyle='--', c = \"red\") \n",
    "\n",
    "ax1.text(30, 0.1, r'arc ec: First-Order Progression $\\frac{dy}{dx} = k(L-y) $', rotation='horizontal') \n",
    "ax1.text(40, 0.2, r'arc de: Arithmetic Progression $\\frac{dy}{dx} = k $', rotation='horizontal')\n",
    "ax1.text(40, 0.3, r'arc ad: Geometric Progression $\\frac{dy}{dx} = ky $', rotation='horizontal')  \n",
    "  \n",
    "# for legend\n",
    "#lines = line1 + line2\n",
    "#labs = [l.get_label() for l in lines] \n",
    "#ax.legend(lines, labs, loc=1)     \n",
    "plt.savefig(\"fig2\", format=\"pdf\") "
   ]
  },
  {
   "cell_type": "markdown",
   "metadata": {
    "collapsed": true,
    "nbpresent": {
     "id": "d7f7795e-147b-43fc-ac02-7fa78ffe53e0"
    },
    "slideshow": {
     "slide_type": "slide"
    }
   },
   "source": [
    "# For the arc _ec_#\n",
    "This part of the growth curve is represented by the _First-Order Progression_, which is: <br />\n",
    "$\\frac{dy}{dt} = k(L-y) $. <br />\n",
    "The integrated form of the equation is <br />\n",
    "$y = L - (L - y_0)\\exp(-kt)$,<br /><br />\n",
    "\n",
    "# For the arc _de_# \n",
    "This part of the growth curve is represented by the _Arithmetic Progression_, which is: <br />\n",
    "$\\frac{dy}{dt} = k $. <br />\n",
    "The integrated form of the equation is <br />\n",
    "$y = y_0 + kt$<br /><br />\n",
    "\n",
    "# For the arc _ad_# \n",
    "This part of the growth curve is represented by the _Geometric Progression_, which is: <br />\n",
    "$\\frac{dy}{dt} = ky $. <br />\n",
    "The integrated form of the equation is <br />\n",
    "$y = y_0 \\exp(-kt$)<br /><br />\n"
   ]
  },
  {
   "cell_type": "code",
   "execution_count": 13,
   "metadata": {
    "collapsed": false,
    "hide_input": true,
    "nbpresent": {
     "id": "f0d2f690-b675-4e72-b7ce-900c0807e61a"
    },
    "slideshow": {
     "slide_type": "slide"
    }
   },
   "outputs": [
    {
     "data": {
      "image/png": "[encoded data removed]",
      "text/plain": [
       "<matplotlib.figure.Figure at 0x7fe8f8523160>"
      ]
     },
     "metadata": {},
     "output_type": "display_data"
    }
   ],
   "source": [
    "t = np.linspace(1, 100,100)\n",
    "y1 = L - (L-y0)*np.exp(-k*t) # First Order Progression\n",
    "y2 = y0*np.exp(k*t) # Geometric Progression\n",
    "y3 =  y0 + k*t # Arithmetic Progression\n",
    "fig1 = plt.figure(figsize= (10,4)) \n",
    "\n",
    "gs = gridspec.GridSpec(1, 3, width_ratios= [3,3,4]) \n",
    "\n",
    "ax0 = plt.subplot(gs[0])\n",
    "ax0.plot(t, y1, \"r-\", label =\"First Order\") \n",
    "plt.xlabel(\"time, t\")\n",
    "plt.ylabel(\"population, y\") \n",
    "plt.legend(loc = 0)  \n",
    "\n",
    "\n",
    "ax1 = plt.subplot(gs[1])\n",
    "ax1.plot(t, y2, 'b-', label = \"Geometric\") \n",
    "plt.xlabel(\"time, t\")\n",
    "plt.ylabel(\"population, y\")\n",
    "plt.legend(loc = 0)  \n",
    "\n",
    "ax2 = plt.subplot(gs[2])\n",
    "ax2.plot(t, y3, 'k-', label = 'Arithmetic') \n",
    "plt.xlabel(\"time, t\")\n",
    "plt.ylabel(\"population, y\")\n",
    "plt.legend(loc = 0)\n",
    "\n",
    "plt.tight_layout()     "
   ]
  },
  {
   "cell_type": "code",
   "execution_count": null,
   "metadata": {
    "collapsed": false,
    "nbpresent": {
     "id": "e59c6d00-de1d-43f4-a9f2-a8925b170eab"
    }
   },
   "outputs": [],
   "source": []
  },
  {
   "cell_type": "code",
   "execution_count": null,
   "metadata": {
    "collapsed": false,
    "nbpresent": {
     "id": "3c555a61-39d5-484c-bc5b-84efb1ae0c4c"
    }
   },
   "outputs": [],
   "source": []
  },
  {
   "cell_type": "code",
   "execution_count": null,
   "metadata": {
    "collapsed": true,
    "nbpresent": {
     "id": "bef0d70a-0898-48e0-ab5a-6c8f14aa2c73"
    }
   },
   "outputs": [],
   "source": []
  }
 ],
 "metadata": {
  "anaconda-cloud": {},
  "celltoolbar": "Slideshow",
  "hide_input": false,
  "kernelspec": {
   "display_name": "Python 3",
   "language": "python",
   "name": "python3"
  },
  "language_info": {
   "codemirror_mode": {
    "name": "ipython",
    "version": 3
   },
   "file_extension": ".py",
   "mimetype": "text/x-python",
   "name": "python",
   "nbconvert_exporter": "python",
   "pygments_lexer": "ipython3",
   "version": "3.5.2"
  },
  "latex_envs": {
   "bibliofile": "biblio.bib",
   "cite_by": "apalike",
   "current_citInitial": 1,
   "eqLabelWithNumbers": true,
   "eqNumInitial": 0
  },
  "nbpresent": {
   "slides": {
    "17a06362-fdcf-4b52-92c5-d5ef27dfe512": {
     "id": "17a06362-fdcf-4b52-92c5-d5ef27dfe512",
     "prev": "4d968e74-e3d8-4d8c-b796-1ae32df4dc2a",
     "regions": {
      "882d5ec2-1529-46d5-94cb-dd8e6ca5f004": {
       "attrs": {
        "height": 0.8,
        "width": 0.8,
        "x": 0.1,
        "y": 0.1
       },
       "content": {
        "cell": "f0d2f690-b675-4e72-b7ce-900c0807e61a",
        "part": "whole"
       },
       "id": "882d5ec2-1529-46d5-94cb-dd8e6ca5f004"
      }
     }
    },
    "18d65013-9157-44a1-b2da-82ce0e0dc5e1": {
     "id": "18d65013-9157-44a1-b2da-82ce0e0dc5e1",
     "layout": "manual",
     "prev": "40bb6960-1bf0-488e-a21b-b9f78ba38a44",
     "regions": {
      "507502b0-c90c-4b07-ad23-e5deeb036b73": {
       "attrs": {
        "height": 0.8,
        "width": 0.8,
        "x": 0.1,
        "y": 0.1
       },
       "id": "507502b0-c90c-4b07-ad23-e5deeb036b73"
      },
      "ee6db169-67e2-41bf-af18-73b44bc1ec61": {
       "attrs": {
        "height": 0.8,
        "width": 0.8,
        "x": 0.1,
        "y": 0.1
       },
       "content": {
        "cell": "c2ff25dc-1fdc-4f2d-a6d0-c1929c64d3ae",
        "part": "whole"
       },
       "id": "ee6db169-67e2-41bf-af18-73b44bc1ec61"
      }
     }
    },
    "27e3be74-1155-4643-9b24-ccaace19cb14": {
     "id": "27e3be74-1155-4643-9b24-ccaace19cb14",
     "prev": "78704262-fc16-4c94-8cbe-b5d0795cba4c",
     "regions": {
      "f14927cf-cb1b-4299-b9c6-e92e2518e57b": {
       "attrs": {
        "height": 0.8,
        "width": 0.8,
        "x": 0.1,
        "y": 0.1
       },
       "content": {
        "cell": "e8480d4c-f09b-4e10-99b2-748daa22fbaa",
        "part": "whole"
       },
       "id": "f14927cf-cb1b-4299-b9c6-e92e2518e57b"
      }
     }
    },
    "34980753-f6e4-453b-85d6-d9f557010fbd": {
     "id": "34980753-f6e4-453b-85d6-d9f557010fbd",
     "prev": "c08392cd-c31f-41cb-98cc-15b5ec291e2c",
     "regions": {
      "02c06d03-d989-46fd-bc0f-2effef91cdc0": {
       "attrs": {
        "height": 0.8,
        "width": 0.8,
        "x": 0.1,
        "y": 0.1
       },
       "content": {
        "cell": "18b59516-6da9-4993-b6c6-7cfa45c961d5",
        "part": "whole"
       },
       "id": "02c06d03-d989-46fd-bc0f-2effef91cdc0"
      }
     }
    },
    "40bb6960-1bf0-488e-a21b-b9f78ba38a44": {
     "id": "40bb6960-1bf0-488e-a21b-b9f78ba38a44",
     "layout": "grid",
     "prev": null,
     "regions": {
      "506a1271-66be-4b3e-93b0-b9a821b9400a": {
       "attrs": {
        "height": 1,
        "pad": 0.01,
        "treemap:weight": 1,
        "width": 1,
        "x": 0,
        "y": 0
       },
       "content": {
        "cell": "276be35b-d455-45ad-99e5-7e11cb65cf18",
        "part": "whole"
       },
       "id": "506a1271-66be-4b3e-93b0-b9a821b9400a"
      }
     }
    },
    "4767bb5a-ea49-4208-9325-3793b8cfe03a": {
     "id": "4767bb5a-ea49-4208-9325-3793b8cfe03a",
     "prev": "27e3be74-1155-4643-9b24-ccaace19cb14",
     "regions": {
      "b6552a2c-43df-48dd-870e-47070d0cf99c": {
       "attrs": {
        "height": 0.8,
        "width": 0.8,
        "x": 0.1,
        "y": 0.1
       },
       "content": {
        "cell": "4509dca9-d4f2-4d14-9d5c-b8e8b6739f64",
        "part": "whole"
       },
       "id": "b6552a2c-43df-48dd-870e-47070d0cf99c"
      }
     }
    },
    "4d968e74-e3d8-4d8c-b796-1ae32df4dc2a": {
     "id": "4d968e74-e3d8-4d8c-b796-1ae32df4dc2a",
     "prev": "cf4b04a3-71e7-4722-ae0e-949cd131f0ce",
     "regions": {
      "47793046-03b4-40fb-a7ad-a71f33e43e04": {
       "attrs": {
        "height": 0.8,
        "width": 0.8,
        "x": 0.1,
        "y": 0.1
       },
       "content": {
        "cell": "d7f7795e-147b-43fc-ac02-7fa78ffe53e0",
        "part": "whole"
       },
       "id": "47793046-03b4-40fb-a7ad-a71f33e43e04"
      }
     }
    },
    "6586d061-b61f-4ea8-acb8-841c1fe952c2": {
     "id": "6586d061-b61f-4ea8-acb8-841c1fe952c2",
     "prev": "fb8bfab2-3201-47ba-bae6-b3ad0941b0aa",
     "regions": {
      "10c65e36-62a6-466d-87e4-8c8ab740fbab": {
       "attrs": {
        "height": 0.8,
        "width": 0.8,
        "x": 0.1,
        "y": 0.1
       },
       "content": {
        "cell": "c5ec17c9-9130-458e-a5e3-fda85abbb567",
        "part": "whole"
       },
       "id": "10c65e36-62a6-466d-87e4-8c8ab740fbab"
      }
     }
    },
    "6d2ddfb5-4cbe-44f6-9992-d76107e10caa": {
     "id": "6d2ddfb5-4cbe-44f6-9992-d76107e10caa",
     "prev": "7557db18-7e27-4b62-9d15-7bdb6680b2d3",
     "regions": {
      "c2be2106-d9ab-4ffa-a9e8-1723b0582d4f": {
       "attrs": {
        "height": 0.8,
        "width": 0.8,
        "x": 0.1,
        "y": 0.1
       },
       "content": {
        "cell": "3c555a61-39d5-484c-bc5b-84efb1ae0c4c",
        "part": "whole"
       },
       "id": "c2be2106-d9ab-4ffa-a9e8-1723b0582d4f"
      }
     }
    },
    "7557db18-7e27-4b62-9d15-7bdb6680b2d3": {
     "id": "7557db18-7e27-4b62-9d15-7bdb6680b2d3",
     "prev": "17a06362-fdcf-4b52-92c5-d5ef27dfe512",
     "regions": {
      "621f9ec2-4b20-4029-960d-5d1792b00109": {
       "attrs": {
        "height": 0.8,
        "width": 0.8,
        "x": 0.1,
        "y": 0.1
       },
       "content": {
        "cell": "e59c6d00-de1d-43f4-a9f2-a8925b170eab",
        "part": "whole"
       },
       "id": "621f9ec2-4b20-4029-960d-5d1792b00109"
      }
     }
    },
    "78704262-fc16-4c94-8cbe-b5d0795cba4c": {
     "id": "78704262-fc16-4c94-8cbe-b5d0795cba4c",
     "prev": "6586d061-b61f-4ea8-acb8-841c1fe952c2",
     "regions": {
      "cd971f3f-122a-4a3f-90a4-dba97b13efe1": {
       "attrs": {
        "height": 0.8,
        "width": 0.8,
        "x": 0.1,
        "y": 0.1
       },
       "content": {
        "cell": "5a1ec061-14b7-43ad-82e0-dddd55bcfaf1",
        "part": "whole"
       },
       "id": "cd971f3f-122a-4a3f-90a4-dba97b13efe1"
      }
     }
    },
    "99fb920e-8428-4022-93ce-7b7e8807ee0c": {
     "id": "99fb920e-8428-4022-93ce-7b7e8807ee0c",
     "prev": "18d65013-9157-44a1-b2da-82ce0e0dc5e1",
     "regions": {
      "bf36ba93-bfe4-4d82-96fd-2550fd12067b": {
       "attrs": {
        "height": 0.8,
        "width": 0.8,
        "x": 0.1,
        "y": 0.1
       },
       "content": {
        "cell": "7ecb00c4-c305-472a-acc4-53439e2ba945",
        "part": "whole"
       },
       "id": "bf36ba93-bfe4-4d82-96fd-2550fd12067b"
      }
     }
    },
    "a20b57f9-f4e6-41fb-b96f-bf1b29d0b244": {
     "id": "a20b57f9-f4e6-41fb-b96f-bf1b29d0b244",
     "prev": "6d2ddfb5-4cbe-44f6-9992-d76107e10caa",
     "regions": {
      "6b01d053-951d-4ece-832a-f27f87b3a4a4": {
       "attrs": {
        "height": 0.8,
        "width": 0.8,
        "x": 0.1,
        "y": 0.1
       },
       "content": {
        "cell": "bef0d70a-0898-48e0-ab5a-6c8f14aa2c73",
        "part": "whole"
       },
       "id": "6b01d053-951d-4ece-832a-f27f87b3a4a4"
      }
     }
    },
    "c08392cd-c31f-41cb-98cc-15b5ec291e2c": {
     "id": "c08392cd-c31f-41cb-98cc-15b5ec291e2c",
     "prev": "de40b2a6-ef42-4cf3-978a-f1ea97f362b6",
     "regions": {
      "bf2ed948-b31b-4e5e-96b5-e31ac2a9f1d2": {
       "attrs": {
        "height": 0.8,
        "width": 0.8,
        "x": 0.1,
        "y": 0.1
       },
       "content": {
        "cell": "fbf642fc-cc3f-4baf-870f-c5309c81b47f",
        "part": "whole"
       },
       "id": "bf2ed948-b31b-4e5e-96b5-e31ac2a9f1d2"
      }
     }
    },
    "cf4b04a3-71e7-4722-ae0e-949cd131f0ce": {
     "id": "cf4b04a3-71e7-4722-ae0e-949cd131f0ce",
     "prev": "4767bb5a-ea49-4208-9325-3793b8cfe03a",
     "regions": {
      "f4687395-252f-483e-a3f9-04e4abaf978c": {
       "attrs": {
        "height": 0.8,
        "width": 0.8,
        "x": 0.1,
        "y": 0.1
       },
       "content": {
        "cell": "82a274dc-25cb-4abc-b322-6791d1bdf45c",
        "part": "whole"
       },
       "id": "f4687395-252f-483e-a3f9-04e4abaf978c"
      }
     }
    },
    "de40b2a6-ef42-4cf3-978a-f1ea97f362b6": {
     "id": "de40b2a6-ef42-4cf3-978a-f1ea97f362b6",
     "prev": "99fb920e-8428-4022-93ce-7b7e8807ee0c",
     "regions": {
      "dcc95e38-bb56-4651-97cc-d7520494b15d": {
       "attrs": {
        "height": 0.8,
        "width": 0.8,
        "x": 0.1,
        "y": 0.1
       },
       "content": {
        "cell": "9c4072eb-0374-4c6b-aff3-6ee6929746fc",
        "part": "whole"
       },
       "id": "dcc95e38-bb56-4651-97cc-d7520494b15d"
      }
     }
    },
    "fb8bfab2-3201-47ba-bae6-b3ad0941b0aa": {
     "id": "fb8bfab2-3201-47ba-bae6-b3ad0941b0aa",
     "prev": "34980753-f6e4-453b-85d6-d9f557010fbd",
     "regions": {
      "91f55237-897b-4427-848e-a2c1fbacea57": {
       "attrs": {
        "height": 0.8,
        "width": 0.8,
        "x": 0.1,
        "y": 0.1
       },
       "content": {
        "cell": "3b61d913-a129-4cdb-be1b-184e727c81f1",
        "part": "whole"
       },
       "id": "91f55237-897b-4427-848e-a2c1fbacea57"
      }
     }
    }
   },
   "themes": {}
  }
 },
 "nbformat": 4,
 "nbformat_minor": 1
}
