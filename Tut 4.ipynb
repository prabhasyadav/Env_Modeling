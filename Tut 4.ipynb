{
 "cells": [
  {
   "cell_type": "markdown",
   "metadata": {},
   "source": [
    "**Tutorial 4**"
   ]
  },
  {
   "cell_type": "code",
   "execution_count": 1,
   "metadata": {},
   "outputs": [
    {
     "data": {
      "text/plain": [
       "'%.2f'"
      ]
     },
     "execution_count": 1,
     "metadata": {},
     "output_type": "execute_result"
    }
   ],
   "source": [
    "import numpy as np\n",
    "import matplotlib.pyplot as plt\n",
    "import sympy as sp\n",
    "%matplotlib inline\n",
    "%precision %.2f"
   ]
  },
  {
   "cell_type": "markdown",
   "metadata": {},
   "source": [
    "**Question 1.** Design 5 slow sand filters from the following data:\n",
    "\n",
    "Population to be served = 40,000\n",
    "\n",
    "Per capita demand = 120 LPCD\n",
    "\n",
    "Rate of filtration = 180 L/h/m$^2$\n",
    "\n",
    "Length of the bed = 2 $\\times$ width\n",
    "\n",
    "Assume maximum daily demand = 1.8 times the average daily demand.\n",
    "Assume 1 filter is for standby, only 4 is functional."
   ]
  },
  {
   "cell_type": "code",
   "execution_count": 2,
   "metadata": {},
   "outputs": [
    {
     "name": "stdout",
     "output_type": "stream",
     "text": [
      "The filtration rate is  4320 L/d?m^2\n",
      "The average demand is 6000000 L/d\n",
      "The total demand is 10800000.0 L/d\n"
     ]
    }
   ],
   "source": [
    "Pop = 50000\n",
    "D_pc = 120 # LPCD\n",
    "F_r = 180 #L/h/m^2\n",
    "F_rd = F_r * 24 # L/d/m^2\n",
    "print(\"The filtration rate is \", F_rd, \"L/d?m^2\")\n",
    "Av_dem = Pop*D_pc\n",
    "print(\"The average demand is\", Av_dem, \"L/d\")\n",
    "\n",
    "D_max = 1.8 * Av_dem # L/d\n",
    "print(\"The total demand is\", D_max, \"L/d\")"
   ]
  },
  {
   "cell_type": "code",
   "execution_count": 3,
   "metadata": {},
   "outputs": [
    {
     "name": "stdout",
     "output_type": "stream",
     "text": [
      "The required filter area is 2500.0 m^2\n",
      "Since 5 is designed but only 4 is to be used, the area required for each operating unit is\n",
      "The area of each filter is 625.0 m^2\n"
     ]
    }
   ],
   "source": [
    "A_tot = D_max/F_rd # m^2\n",
    "print(\"The required filter area is\", A_tot, \"m^2\") \n",
    "print(\"Since 5 is designed but only 4 is to be used, the area required for each operating unit is\")\n",
    "\n",
    "A_1 = A_tot/4\n",
    "\n",
    "print(\"The area of each filter is\", A_1, \"m^2\")"
   ]
  },
  {
   "cell_type": "code",
   "execution_count": 4,
   "metadata": {},
   "outputs": [
    {
     "name": "stdout",
     "output_type": "stream",
     "text": [
      "since L= 2B, A = LXB = 2BxB = 2B^2\n",
      "The length of each unit is 35.0 m and the width is 17.68 m\n"
     ]
    }
   ],
   "source": [
    "print(\"since L= 2B, A = LXB = 2BxB = 2B^2\" )\n",
    "B = round(np.sqrt(A_1/2),2)\n",
    "L = round(2*B)  \n",
    "print(\"The length of each unit is\", L, \"m and the width is\", B, \"m\") "
   ]
  },
  {
   "cell_type": "markdown",
   "metadata": {},
   "source": [
    "**Question 2.** Design a rapid sand filter unit for 6 MLD of supply with all its principle components."
   ]
  },
  {
   "cell_type": "code",
   "execution_count": 5,
   "metadata": {},
   "outputs": [
    {
     "name": "stdout",
     "output_type": "stream",
     "text": [
      "Assume that 5% of filtered water is used for backwashing, then total filterd water required per day is\n",
      "The actual water cleaned and supplied is 6315789.47 MLD\n",
      "Assuming that 0.5 h is lost for backwashing, then total hour a day filter does actual filtration is\n"
     ]
    }
   ],
   "source": [
    "Wat_cl = 6*10**6 # LD\n",
    "\n",
    "print(\"Assume that 5% of filtered water is used for backwashing, then total filterd water required per day is\")\n",
    "Back_w = 0.05\n",
    "Wat_act = round(Wat_cl/(1-Back_w),2) # LD\n",
    "\n",
    "print(\"The actual water cleaned and supplied is\", Wat_act, \"MLD\")\n",
    "print(\"Assuming that 0.5 h is lost for backwashing, then total hour a day filter does actual filtration is\")\n"
   ]
  },
  {
   "cell_type": "markdown",
   "metadata": {},
   "source": [
    "Assuming that 0.5 h is lost for backwashing, then total hour a day filter does actual filtration is"
   ]
  },
  {
   "cell_type": "code",
   "execution_count": 6,
   "metadata": {},
   "outputs": [
    {
     "name": "stdout",
     "output_type": "stream",
     "text": [
      "The actual daily discharge from the tank is 268757.0 L/h\n"
     ]
    }
   ],
   "source": [
    "Time_back = 0.5 # h\n",
    "\n",
    "Filt_act = round(Wat_act/(24-Time_back),2) \n",
    "print(\"The actual daily discharge from the tank is\", Filt_act, \"L/h\")"
   ]
  },
  {
   "cell_type": "markdown",
   "metadata": {},
   "source": [
    "Assuming that the filtration rate to be 5000 L/h/m$^2$, the required filter area is"
   ]
  },
  {
   "cell_type": "code",
   "execution_count": 7,
   "metadata": {},
   "outputs": [
    {
     "name": "stdout",
     "output_type": "stream",
     "text": [
      "The required area is 53.7514 m^2\n"
     ]
    }
   ],
   "source": [
    "Filt_r = 5000 # L/h/m^2\n",
    "A_req = round(Filt_act/Filt_r,4) \n",
    "print(\"The required area is\", A_req, \"m^2\")"
   ]
  },
  {
   "cell_type": "markdown",
   "metadata": {},
   "source": [
    "Since at least two filters are to be constructed and assuming Length is 1.4 times the Width of the tank.The area of each tank is A_req/2 = L * B = 1.4 *B *B and "
   ]
  },
  {
   "cell_type": "code",
   "execution_count": 8,
   "metadata": {},
   "outputs": [
    {
     "name": "stdout",
     "output_type": "stream",
     "text": [
      "The required width is 4.38 m\n",
      "The required width is 6.132 m\n"
     ]
    }
   ],
   "source": [
    "A_req1 = A_req/2\n",
    "B = round(np.sqrt(A_req1/1.4),2) \n",
    "print(\"The required width is\", B, \"m\")\n",
    "\n",
    "L = 1.4 * B\n",
    "print(\"The required width is\", L, \"m\")"
   ]
  },
  {
   "cell_type": "markdown",
   "metadata": {},
   "source": [
    "**Question 3.** Results of chlorine demand test on a raw water are given below. Sketch a chlorine demand curve and find the break point dosage."
   ]
  },
  {
   "cell_type": "code",
   "execution_count": 9,
   "metadata": {},
   "outputs": [
    {
     "name": "stdout",
     "output_type": "stream",
     "text": [
      "The chlorine dosage is [0.2, 0.4, 0.6, 0.8, 1, 1.2, 1.4, 1.6]\n",
      "The residual chlorine dosage is [0.19, 0.36, 0.5, 0.48, 0.2, 0.4, 0.6, 0.8]\n"
     ]
    }
   ],
   "source": [
    "Ch_dosage = [0.2, 0.4, 0.6, 0.8, 1, 1.2, 1.4, 1.6] \n",
    "Ch_residual = [ 0.19, 0.36, 0.50, 0.48, 0.2, 0.4, 0.6, 0.8]\n",
    "print(\"The chlorine dosage is\", Ch_dosage)\n",
    "print(\"The residual chlorine dosage is\", Ch_residual) "
   ]
  },
  {
   "cell_type": "code",
   "execution_count": 10,
   "metadata": {},
   "outputs": [
    {
     "data": {
      "text/plain": [
       "<matplotlib.collections.LineCollection at 0x7fec54799d68>"
      ]
     },
     "execution_count": 10,
     "metadata": {},
     "output_type": "execute_result"
    },
    {
     "data": {
      "image/png": "[encoded data removed]",
      "text/plain": [
       "<matplotlib.figure.Figure at 0x7fec54799cf8>"
      ]
     },
     "metadata": {},
     "output_type": "display_data"
    }
   ],
   "source": [
    "plt.plot(Ch_dosage, Ch_residual, \"o-\", LW = 2) \n",
    "plt.grid() \n",
    "plt.xlabel(\"Applied chlorine, (mg/L)\")\n",
    "plt.ylabel(\"Residual chlorine, (mg/L)\") \n",
    "plt.annotate('Break point', xy=(1, 0.2), xytext=(1.4, 0.2),\n",
    "            arrowprops=dict(facecolor='black', shrink=0.01),)   \n",
    "plt.vlines(1, 0.1, 0.2, linestyles=\"dashed\") "
   ]
  },
  {
   "cell_type": "markdown",
   "metadata": {},
   "source": [
    "According to the plot the breakpoint dosage is 1.0 mg/L."
   ]
  },
  {
   "cell_type": "markdown",
   "metadata": {},
   "source": [
    "**Question 4.** Chlorine usage in the treatment of 20000 m$^3$/d is 8 kg/d. The residual after 10 min contact is 0.2 mg/L. Calculate the dosage in mg/L and chlorine demand of the water. "
   ]
  },
  {
   "cell_type": "code",
   "execution_count": 11,
   "metadata": {},
   "outputs": [
    {
     "name": "stdout",
     "output_type": "stream",
     "text": [
      "Chlorine dosage is 0.3 mg/L\n"
     ]
    }
   ],
   "source": [
    "Wat_treat = 50000 # m^3/d\n",
    "Wat_treatL = Wat_treat*1000 # L/d\n",
    "Dos_used = 15 # kg/d\n",
    "Dos_usedmg = Dos_used*10**6 # mg\n",
    "\n",
    "Ch_used = Dos_usedmg/Wat_treatL # mg/L\n",
    "print(\"Chlorine dosage is\", Ch_used, \"mg/L\")"
   ]
  },
  {
   "cell_type": "markdown",
   "metadata": {},
   "source": [
    "Residual chlorine is 0.2 mg/L (given). Hence the chlorine demand of water  is "
   ]
  },
  {
   "cell_type": "code",
   "execution_count": 12,
   "metadata": {},
   "outputs": [
    {
     "name": "stdout",
     "output_type": "stream",
     "text": [
      "The chlorine demand of water is 0.1 mg/L\n"
     ]
    }
   ],
   "source": [
    "Ch_res = 0.2 #mg/L\n",
    "Ch_demand =  round(Ch_used - Ch_res, 2)  # mg/L\n",
    "print(\"The chlorine demand of water is\", Ch_demand, \"mg/L\") "
   ]
  },
  {
   "cell_type": "code",
   "execution_count": 13,
   "metadata": {},
   "outputs": [
    {
     "data": {
      "image/png": "[encoded data removed]",
      "text/plain": [
       "<matplotlib.figure.Figure at 0x7fec54799898>"
      ]
     },
     "metadata": {},
     "output_type": "display_data"
    }
   ],
   "source": [
    "plt.plot() \n",
    "plt.grid() \n",
    "plt.xlim(0.0, 1.6)\n",
    "plt.ylim(0.0, 0.8) \n",
    "plt.xlabel(\"Added Chlorine (mg/L)\")\n",
    "plt.ylabel(\"Residual Chlorine (mg/L)\")\n",
    "plt.savefig(\"quiz4.png\") "
   ]
  },
  {
   "cell_type": "code",
   "execution_count": 14,
   "metadata": {},
   "outputs": [
    {
     "name": "stdout",
     "output_type": "stream",
     "text": [
      "The chlorine dosage is [0.0, 0.2, 0.4, 0.6, 0.8, 1, 1.2, 1.4, 1.6]\n",
      "The residual chlorine dosage is [0.0, 0.05, 0.36, 0.5, 0.48, 0.2, 0.4, 0.6, 0.8]\n"
     ]
    }
   ],
   "source": [
    "Ch_dosage = [0.0, 0.2, 0.4, 0.6, 0.8, 1, 1.2, 1.4, 1.6] \n",
    "Ch_residual = [0.0, 0.05, 0.36, 0.50, 0.48, 0.2, 0.4, 0.6, 0.8]\n",
    "print(\"The chlorine dosage is\", Ch_dosage)\n",
    "print(\"The residual chlorine dosage is\", Ch_residual) "
   ]
  },
  {
   "cell_type": "code",
   "execution_count": 102,
   "metadata": {},
   "outputs": [
    {
     "data": {
      "image/png": "[encoded data removed]",
      "text/plain": [
       "<matplotlib.figure.Figure at 0x7fec30ac0128>"
      ]
     },
     "metadata": {},
     "output_type": "display_data"
    }
   ],
   "source": [
    "plt.plot(Ch_dosage, Ch_residual, \"o-\", LW = 2) \n",
    "plt.grid() \n",
    "plt.ylim(0, 1)\n",
    "plt.xlim(0, 1.7)\n",
    "plt.xlabel(\"Applied chlorine, (mg/L)\")\n",
    "plt.ylabel(\"Residual chlorine, (mg/L)\") \n",
    "\n",
    "plt.annotate('Break point', xy=(1, 0.2), xycoords='data', xytext=(1.2, 0.1),\n",
    "            arrowprops=dict(facecolor='black', shrink=0.01),) \n",
    "\n",
    "plt.vlines(1, 0.0, 0.2, linestyles=\"dashed\") \n",
    "plt.vlines(0.2, 0.05, 1, linestyles = \"dashed\") \n",
    "plt.text(0.1, 0.8, \"Inorganic reaction\", rotation=90) \n",
    "plt.vlines(0.6, 0.5, 1, linestyles = \"dashed\") \n",
    "plt.text(0.3, 0.7, \"Inorganic \\n reaction\") \n",
    "plt.text(0.4, 0.2, \"Combined \\n chlorine\") \n",
    "plt.hlines(0.2, 1, 1.5, linestyles = \"dashed\") \n",
    "plt.annotate(r'$45^\\circ$',\n",
    "            xy=(1.2, 0.2), xycoords='data',\n",
    "            xytext=(-40, 25), textcoords='offset points',\n",
    "            arrowprops=dict(arrowstyle=\"->\",\n",
    "                            connectionstyle=\"angle3,angleA=0,angleB=-90\"))\n",
    "plt.text(1.3, 0.4, \"Free residual \\n chlorine\") \n",
    "\n",
    "plt.savefig(\"fig3.png\") "
   ]
  },
  {
   "cell_type": "code",
   "execution_count": null,
   "metadata": {},
   "outputs": [],
   "source": []
  },
  {
   "cell_type": "code",
   "execution_count": null,
   "metadata": {
    "collapsed": true
   },
   "outputs": [],
   "source": []
  }
 ],
 "metadata": {
  "anaconda-cloud": {},
  "kernelspec": {
   "display_name": "Python 3",
   "language": "python",
   "name": "python3"
  },
  "language_info": {
   "codemirror_mode": {
    "name": "ipython",
    "version": 3
   },
   "file_extension": ".py",
   "mimetype": "text/x-python",
   "name": "python",
   "nbconvert_exporter": "python",
   "pygments_lexer": "ipython3",
   "version": "3.7.0"
  },
  "varInspector": {
   "cols": {
    "lenName": 16,
    "lenType": 16,
    "lenVar": 40
   },
   "kernels_config": {
    "python": {
     "delete_cmd_postfix": "",
     "delete_cmd_prefix": "del ",
     "library": "var_list.py",
     "varRefreshCmd": "print(var_dic_list())"
    },
    "r": {
     "delete_cmd_postfix": ") ",
     "delete_cmd_prefix": "rm(",
     "library": "var_list.r",
     "varRefreshCmd": "cat(var_dic_list()) "
    }
   },
   "types_to_exclude": [
    "module",
    "function",
    "builtin_function_or_method",
    "instance",
    "_Feature"
   ],
   "window_display": false
  }
 },
 "nbformat": 4,
 "nbformat_minor": 2
}
