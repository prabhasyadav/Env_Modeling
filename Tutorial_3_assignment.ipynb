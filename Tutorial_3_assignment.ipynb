{
 "cells": [
  {
   "cell_type": "markdown",
   "metadata": {},
   "source": [
    "**Tutorial_3_Assignment**"
   ]
  },
  {
   "cell_type": "code",
   "execution_count": 2,
   "metadata": {},
   "outputs": [
    {
     "data": {
      "text/plain": [
       "'%.2f'"
      ]
     },
     "execution_count": 2,
     "metadata": {},
     "output_type": "execute_result"
    }
   ],
   "source": [
    "import numpy as np\n",
    "import matplotlib.pyplot as plt\n",
    "import sympy as sp\n",
    "%matplotlib inline\n",
    "%precision %.2f"
   ]
  },
  {
   "cell_type": "markdown",
   "metadata": {
    "collapsed": true
   },
   "source": [
    "**Question 1** Calculate the diameter of a discrete particle whose terminal settling velocity is 1.044 cm/s. The specific particle density is 2.65 and the water temperature is 12$^o$C. Assume Stokes’s law applies and that the density of water is 1,000 kg/m$^3$ "
   ]
  },
  {
   "cell_type": "code",
   "execution_count": 6,
   "metadata": {},
   "outputs": [
    {
     "name": "stdout",
     "output_type": "stream",
     "text": [
      "The required particle size is 0.14 cm\n"
     ]
    }
   ],
   "source": [
    "v_s = 1.044 # cm/s\n",
    "G = 2.65 \n",
    "nu = 1.66 * 10**-6 # m2/s assumed\n",
    "g = 9.81 # m/s2\n",
    "v_sm = v_s/100 # m/s\n",
    "\n",
    "d = np.sqrt(v_sm*nu/(g/18* (G-1)));\n",
    "dp = round(d*10**3,2) #cm; \n",
    "print(\"The required particle size is\",dp, \"cm\") "
   ]
  },
  {
   "cell_type": "markdown",
   "metadata": {},
   "source": [
    "**Question 2.** Design a horizontal flow rectangular sedimentation basin for a maximum day design flow rate of 25,000 m$^3$/d. Assume an overflow rate of 40 m$^3$/d/m$^2$ and a water temperature of 12$^o$C"
   ]
  },
  {
   "cell_type": "code",
   "execution_count": 3,
   "metadata": {},
   "outputs": [
    {
     "name": "stdout",
     "output_type": "stream",
     "text": [
      "Area is  625.0 m^2\n",
      "Assume that Width = 12 m\n",
      "The length of the tank is 52.08 m\n"
     ]
    }
   ],
   "source": [
    "Qd = 25000 # m3/d\n",
    "f_r = 40 # m3/d/m2\n",
    "A_T = Qd/f_r# m2\n",
    "print(\"Area is \", A_T, \"m^2\")\n",
    "print(\"Assume that Width = 12 m\") \n",
    "W = 12 #m\n",
    "L = round(A_T/W,2)\n",
    "L\n",
    "print(\"The length of the tank is\", L, \"m\") "
   ]
  },
  {
   "cell_type": "markdown",
   "metadata": {},
   "source": [
    "Assume that height is 4 m, and we provide 0.5 m overboard and 0.5 m space for bottom sludge.\n",
    "The design dimension is then 52.08 m $\\times$ 12 m $\\times$ 5 m."
   ]
  },
  {
   "cell_type": "markdown",
   "metadata": {
    "collapsed": true
   },
   "source": [
    "**Question 3**. A plant treating 189.25 MLD of water is using 50 mg/L of alum, Al$_2$(SO$_4$4)$_3$ 14 H$_2$O as a coagulant. The water contains a natural alkalinity of 30 mg/L as 3Ca(HCO$_3$)$_2$. Compute the amount of lime as CaO required per day.\n",
    "\n",
    "\n",
    "**HINT**: Al$_2$(SO$_4$)$_3.14$H$_2$O + 3Ca(HCO$_3$)$_2$ -> 2Al(OH)$_3$ + 3 CaSO$_4$ +14 H$_2$O + 6H$_2$O\n"
   ]
  },
  {
   "cell_type": "code",
   "execution_count": 4,
   "metadata": {},
   "outputs": [
    {
     "name": "stdout",
     "output_type": "stream",
     "text": [
      "Molecular weight Alum is 594 kg/kmol and available Alkalinity is 162 kg/kmol\n",
      "The available Alum is 9462.5 kg and available Alkalinity is 5677.5 kg\n"
     ]
    }
   ],
   "source": [
    "MW_alu = 2 * 27 + 3 * 32 + 12 * 16 + 14 * 18 # kg/kmol\n",
    "MW_alk = 40 + 2 * 1 + 2 * 12 + 6 * 16 # kg/kmol\n",
    "W_alu = 189.25 *10**6 *50/10**6 # kg\n",
    "W_alk = 189.25 *10**6 *30/10**6 # kg\n",
    "print(\"Molecular weight Alum is\", MW_alu,\"kg/kmol and available Alkalinity is\",MW_alk, \"kg/kmol\")\n",
    "print(\"The available Alum is\", W_alu,\"kg and available Alkalinity is\",W_alk, \"kg\")"
   ]
  },
  {
   "cell_type": "markdown",
   "metadata": {},
   "source": [
    "1 kmol of Alum requires 3 kmol of Alkalinity, i.e,\n",
    "\n",
    "594 kg Alum required 3 $\\times$ 162 kg Alkalinity\n",
    "\n",
    "1 kg Alum will require 3 $\\times$ 162/594 kg Alkalinity\n",
    "\n",
    "9462.5 kg Alum will require 3 $\\times$ 162/594 $\\times$  9462.5 kg Alkalinity\n",
    "\n"
   ]
  },
  {
   "cell_type": "code",
   "execution_count": 5,
   "metadata": {},
   "outputs": [
    {
     "name": "stdout",
     "output_type": "stream",
     "text": [
      "The amount of required alkalinity is 7742.05\n"
     ]
    }
   ],
   "source": [
    "Alk_req = round(3 *162/594*9462.5,2) \n",
    "print(\"The amount of required alkalinity is\", Alk_req) "
   ]
  },
  {
   "cell_type": "markdown",
   "metadata": {},
   "source": [
    "Since required alkalinity is 7742.05 and available is 5677.5, we need to add "
   ]
  },
  {
   "cell_type": "code",
   "execution_count": 1,
   "metadata": {},
   "outputs": [
    {
     "ename": "NameError",
     "evalue": "name 'Alk_req' is not defined",
     "output_type": "error",
     "traceback": [
      "\u001b[0;31m---------------------------------------------------------------------------\u001b[0m",
      "\u001b[0;31mNameError\u001b[0m                                 Traceback (most recent call last)",
      "\u001b[0;32m<ipython-input-1-524467054369>\u001b[0m in \u001b[0;36m<module>\u001b[0;34m()\u001b[0m\n\u001b[0;32m----> 1\u001b[0;31m \u001b[0mAdd_alk\u001b[0m \u001b[0;34m=\u001b[0m \u001b[0mAlk_req\u001b[0m \u001b[0;34m-\u001b[0m\u001b[0mW_alk\u001b[0m\u001b[0;34m\u001b[0m\u001b[0m\n\u001b[0m\u001b[1;32m      2\u001b[0m \u001b[0mprint\u001b[0m\u001b[0;34m(\u001b[0m\u001b[0;34m\"The additional required alkalinity is\"\u001b[0m\u001b[0;34m,\u001b[0m \u001b[0mAdd_alk\u001b[0m\u001b[0;34m,\u001b[0m \u001b[0;34m\"kg\"\u001b[0m\u001b[0;34m)\u001b[0m\u001b[0;34m\u001b[0m\u001b[0m\n\u001b[1;32m      3\u001b[0m \u001b[0munused_alu\u001b[0m \u001b[0;34m=\u001b[0m \u001b[0mround\u001b[0m\u001b[0;34m(\u001b[0m\u001b[0;34m(\u001b[0m\u001b[0mMW_alu\u001b[0m\u001b[0;34m/\u001b[0m\u001b[0;34m(\u001b[0m\u001b[0;36m3\u001b[0m\u001b[0;34m*\u001b[0m\u001b[0mMW_alk\u001b[0m\u001b[0;34m)\u001b[0m\u001b[0;34m*\u001b[0m\u001b[0mAdd_alk\u001b[0m\u001b[0;34m)\u001b[0m\u001b[0;34m,\u001b[0m\u001b[0;36m2\u001b[0m\u001b[0;34m)\u001b[0m\u001b[0;34m\u001b[0m\u001b[0m\n\u001b[1;32m      4\u001b[0m \u001b[0mprint\u001b[0m\u001b[0;34m(\u001b[0m\u001b[0;34m\"The unused alum = \"\u001b[0m\u001b[0;34m,\u001b[0m \u001b[0munused_alu\u001b[0m\u001b[0;34m,\u001b[0m \u001b[0;34m\"kg\"\u001b[0m\u001b[0;34m)\u001b[0m\u001b[0;34m\u001b[0m\u001b[0m\n",
      "\u001b[0;31mNameError\u001b[0m: name 'Alk_req' is not defined"
     ]
    }
   ],
   "source": [
    "Add_alk = Alk_req -W_alk\n",
    "print(\"The additional required alkalinity is\", Add_alk, \"kg\")\n",
    "unused_alu = round((MW_alu/(3*MW_alk)*Add_alk),2)\n",
    "print(\"The unused alum = \", unused_alu, \"kg\")  "
   ]
  },
  {
   "cell_type": "markdown",
   "metadata": {},
   "source": [
    "Since CaO is required, we need to work on the following 2 equations\n",
    "\n",
    "Al$_2$(SO$_4)_3$.14H$_2$O + 3Ca(OH)$_2$ -> 2Al(OH)$_3$ + 3 CaSO$_4$ +14 H$_2$O + 6H$_2$O\n",
    "\n",
    "CaO + H2O -> Ca(OH)$_2$"
   ]
  },
  {
   "cell_type": "code",
   "execution_count": 7,
   "metadata": {},
   "outputs": [
    {
     "name": "stdout",
     "output_type": "stream",
     "text": [
      "Molecular wt of Ca(OH)2 is 74 kg/kmol\n"
     ]
    }
   ],
   "source": [
    "MW_caoh = 40 +2 *16 +2*1;\n",
    "print(\"Molecular wt of Ca(OH)2 is\", MW_caoh, \"kg/kmol\")"
   ]
  },
  {
   "cell_type": "markdown",
   "metadata": {},
   "source": [
    "1 kmol of Alum requires 3 kmol of Ca(OH)$_2$, i.e,\n",
    "\n",
    "594 kg Alum required 3 $\\times$ 72 kg Ca(OH)$_2$\n",
    "\n",
    "1 kg Alum will require 3 $\\times$ 72/594 kg Ca(OH)$_2$\n",
    "\n",
    "2523 kg Alum will require 3 $\\times$ 72/594 $\\times$  2523 Ca(OH)$_2$"
   ]
  },
  {
   "cell_type": "code",
   "execution_count": 8,
   "metadata": {},
   "outputs": [
    {
     "name": "stdout",
     "output_type": "stream",
     "text": [
      "The required Ca(OH)2 is  943 kg\n"
     ]
    }
   ],
   "source": [
    "req_caoh = round((3*MW_caoh/MW_alu)*unused_alu)\n",
    "print(\"The required Ca(OH)2 is \", req_caoh, \"kg\")   "
   ]
  },
  {
   "cell_type": "markdown",
   "metadata": {},
   "source": [
    "From the last equation above, 1 kmol of CaO will produce one mole of Ca(OH)$_2$. So, 943 kg of Ca(OH)2 will reqiure can be produced from"
   ]
  },
  {
   "cell_type": "code",
   "execution_count": 9,
   "metadata": {},
   "outputs": [
    {
     "name": "stdout",
     "output_type": "stream",
     "text": [
      "The required CaO is  714 kg\n"
     ]
    }
   ],
   "source": [
    "MW_cao = 40+16\n",
    "CaO_r = round(MW_cao/MW_caoh*943) \n",
    "print(\"The required CaO is \", CaO_r, \"kg\") "
   ]
  },
  {
   "cell_type": "markdown",
   "metadata": {},
   "source": [
    "**Question 4.**  A circular sedimentation tank is to handle 8 MLD of raw water. If the detention period is 4 hours, and the depth of the tank is 4.2 m, what should the diameter of tank be?"
   ]
  },
  {
   "cell_type": "code",
   "execution_count": 10,
   "metadata": {},
   "outputs": [
    {
     "name": "stdout",
     "output_type": "stream",
     "text": [
      "The required volume is 1333.33 m^3\n"
     ]
    }
   ],
   "source": [
    "h = 4.2 #m\n",
    "W_d = 8 *10**6 # L/D\n",
    "R_t = 4 # h\n",
    "V_r = round(W_d*R_t/24*1/1000,2) # m^3\n",
    "print(\"The required volume is\", V_r, \"m^3\" ) "
   ]
  },
  {
   "cell_type": "markdown",
   "metadata": {},
   "source": [
    "Volume and diameter relation in a circular tank is: $V = d^2(0.011\\cdot d + 0.785\\cdot H)$.\n",
    "\n",
    "To solve for $d$ trial and error method has to be adopted. So first we plot the function."
   ]
  },
  {
   "cell_type": "code",
   "execution_count": 11,
   "metadata": {},
   "outputs": [
    {
     "data": {
      "text/plain": [
       "(None,\n",
       " <matplotlib.text.Text at 0x7f3e8f0ef240>,\n",
       " <matplotlib.text.Text at 0x7f3e9161cb38>)"
      ]
     },
     "execution_count": 11,
     "metadata": {},
     "output_type": "execute_result"
    },
    {
     "data": {
      "image/png": "[encoded data removed]",
      "text/plain": [
       "<matplotlib.figure.Figure at 0x7f3e915f7d68>"
      ]
     },
     "metadata": {},
     "output_type": "display_data"
    }
   ],
   "source": [
    "dia = np.linspace(19.4,19.5,100)\n",
    "V = dia**2*(0.011*dia+0.785*h)-V_r \n",
    "plt.plot(dia,V)    \n",
    "plt.grid(), plt.ylabel(\"Volume, (m$^3$)\"), plt.xlabel(\"diameter (m)\")  "
   ]
  },
  {
   "cell_type": "code",
   "execution_count": 14,
   "metadata": {},
   "outputs": [
    {
     "name": "stdout",
     "output_type": "stream",
     "text": [
      " The required diameter is 19.4864 m\n"
     ]
    },
    {
     "data": {
      "text/plain": [
       "{-298.365679967734, -20.8479982989666, 19.4864055394277}"
      ]
     },
     "execution_count": 14,
     "metadata": {},
     "output_type": "execute_result"
    }
   ],
   "source": [
    "d = sp.Symbol(\"d\") \n",
    "sol1 = sp.solveset((d**2*(0.011*d+0.785*4.2) - 1333.33), d)  \n",
    "print(\" The required diameter is 19.4864 m\")\n",
    "sol1"
   ]
  }
 ],
 "metadata": {
  "anaconda-cloud": {},
  "kernelspec": {
   "display_name": "Python 3",
   "language": "python",
   "name": "python3"
  },
  "language_info": {
   "codemirror_mode": {
    "name": "ipython",
    "version": 3
   },
   "file_extension": ".py",
   "mimetype": "text/x-python",
   "name": "python",
   "nbconvert_exporter": "python",
   "pygments_lexer": "ipython3",
   "version": "3.7.0"
  },
  "varInspector": {
   "cols": {
    "lenName": 16,
    "lenType": 16,
    "lenVar": 40
   },
   "kernels_config": {
    "python": {
     "delete_cmd_postfix": "",
     "delete_cmd_prefix": "del ",
     "library": "var_list.py",
     "varRefreshCmd": "print(var_dic_list())"
    },
    "r": {
     "delete_cmd_postfix": ") ",
     "delete_cmd_prefix": "rm(",
     "library": "var_list.r",
     "varRefreshCmd": "cat(var_dic_list()) "
    }
   },
   "types_to_exclude": [
    "module",
    "function",
    "builtin_function_or_method",
    "instance",
    "_Feature"
   ],
   "window_display": false
  }
 },
 "nbformat": 4,
 "nbformat_minor": 1
}
